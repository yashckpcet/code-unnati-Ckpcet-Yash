{
 "cells": [
  {
   "cell_type": "markdown",
   "id": "39fa1718",
   "metadata": {},
   "source": [
    "# UNIT 1 Python Fundamentals\n"
   ]
  },
  {
   "cell_type": "code",
   "execution_count": 2,
   "id": "28cf5cf5",
   "metadata": {},
   "outputs": [
    {
     "name": "stdout",
     "output_type": "stream",
     "text": [
      " Hello World \n"
     ]
    }
   ],
   "source": [
    "print(\" Hello World \")"
   ]
  },
  {
   "cell_type": "code",
   "execution_count": 6,
   "id": "c69c0ba4",
   "metadata": {},
   "outputs": [
    {
     "name": "stdout",
     "output_type": "stream",
     "text": [
      " Hello Students \n"
     ]
    }
   ],
   "source": [
    "print(\" Hello Students \")"
   ]
  },
  {
   "cell_type": "code",
   "execution_count": 5,
   "id": "3a0737c2",
   "metadata": {},
   "outputs": [
    {
     "data": {
      "text/plain": [
       "33"
      ]
     },
     "execution_count": 5,
     "metadata": {},
     "output_type": "execute_result"
    }
   ],
   "source": [
    "a=33\n",
    "a"
   ]
  },
  {
   "cell_type": "code",
   "execution_count": 7,
   "id": "8f58db77",
   "metadata": {},
   "outputs": [
    {
     "ename": "SyntaxError",
     "evalue": "invalid syntax (3286118931.py, line 2)",
     "output_type": "error",
     "traceback": [
      "\u001b[1;36m  Input \u001b[1;32mIn [7]\u001b[1;36m\u001b[0m\n\u001b[1;33m    var1 =\u001b[0m\n\u001b[1;37m           ^\u001b[0m\n\u001b[1;31mSyntaxError\u001b[0m\u001b[1;31m:\u001b[0m invalid syntax\n"
     ]
    }
   ],
   "source": [
    "#variable and data type\n",
    "var1 = "
   ]
  },
  {
   "cell_type": "code",
   "execution_count": 29,
   "id": "4d6ef984",
   "metadata": {},
   "outputs": [],
   "source": [
    "A= 56 #INT\n",
    "\n",
    "B=99.99 #FLOAT\n",
    "C=\"CKPCET\" #STRINGE\n",
    "D= True #BOOL\n",
    "E= 254/5\n",
    "F= 0/1\n",
    "G= \"HUI\"\n",
    "H= frozenset({\"apple\", \"banana\", \"cherry\"})\n",
    "I= False\n",
    "J= 6.012\n",
    "K= None\n",
    "L= [\"apple\", \"banana\", \"cherry\"]\n",
    "M= (\"apple\", \"banana\", \"cherry\")\n",
    "N= {\"name\" : \"John\", \"age\" : 36} #dict\n",
    "O= range(6) #range"
   ]
  },
  {
   "cell_type": "code",
   "execution_count": 9,
   "id": "d357c91a",
   "metadata": {},
   "outputs": [
    {
     "data": {
      "text/plain": [
       "56"
      ]
     },
     "execution_count": 9,
     "metadata": {},
     "output_type": "execute_result"
    }
   ],
   "source": [
    "A\n"
   ]
  },
  {
   "cell_type": "code",
   "execution_count": 10,
   "id": "0d263cbb",
   "metadata": {},
   "outputs": [
    {
     "data": {
      "text/plain": [
       "100.0"
      ]
     },
     "execution_count": 10,
     "metadata": {},
     "output_type": "execute_result"
    }
   ],
   "source": [
    "B"
   ]
  },
  {
   "cell_type": "code",
   "execution_count": 11,
   "id": "71e9ae2d",
   "metadata": {},
   "outputs": [
    {
     "data": {
      "text/plain": [
       "'CKPCET'"
      ]
     },
     "execution_count": 11,
     "metadata": {},
     "output_type": "execute_result"
    }
   ],
   "source": [
    "C"
   ]
  },
  {
   "cell_type": "code",
   "execution_count": 13,
   "id": "0c0ed7b9",
   "metadata": {},
   "outputs": [
    {
     "data": {
      "text/plain": [
       "99.99"
      ]
     },
     "execution_count": 13,
     "metadata": {},
     "output_type": "execute_result"
    }
   ],
   "source": [
    "B"
   ]
  },
  {
   "cell_type": "code",
   "execution_count": 14,
   "id": "bfa05353",
   "metadata": {},
   "outputs": [
    {
     "data": {
      "text/plain": [
       "'CKPCET'"
      ]
     },
     "execution_count": 14,
     "metadata": {},
     "output_type": "execute_result"
    }
   ],
   "source": [
    "C"
   ]
  },
  {
   "cell_type": "code",
   "execution_count": 15,
   "id": "1a1ff02e",
   "metadata": {},
   "outputs": [
    {
     "data": {
      "text/plain": [
       "True"
      ]
     },
     "execution_count": 15,
     "metadata": {},
     "output_type": "execute_result"
    }
   ],
   "source": [
    "D"
   ]
  },
  {
   "cell_type": "code",
   "execution_count": 16,
   "id": "2ce55761",
   "metadata": {},
   "outputs": [
    {
     "data": {
      "text/plain": [
       "int"
      ]
     },
     "execution_count": 16,
     "metadata": {},
     "output_type": "execute_result"
    }
   ],
   "source": [
    "type(A)"
   ]
  },
  {
   "cell_type": "code",
   "execution_count": 18,
   "id": "b328c9e2",
   "metadata": {},
   "outputs": [
    {
     "data": {
      "text/plain": [
       "float"
      ]
     },
     "execution_count": 18,
     "metadata": {},
     "output_type": "execute_result"
    }
   ],
   "source": [
    "type(B)"
   ]
  },
  {
   "cell_type": "code",
   "execution_count": 19,
   "id": "445e2116",
   "metadata": {},
   "outputs": [
    {
     "data": {
      "text/plain": [
       "str"
      ]
     },
     "execution_count": 19,
     "metadata": {},
     "output_type": "execute_result"
    }
   ],
   "source": [
    "type(C)"
   ]
  },
  {
   "cell_type": "code",
   "execution_count": 20,
   "id": "8b831984",
   "metadata": {},
   "outputs": [
    {
     "data": {
      "text/plain": [
       "bool"
      ]
     },
     "execution_count": 20,
     "metadata": {},
     "output_type": "execute_result"
    }
   ],
   "source": [
    "type(D)"
   ]
  },
  {
   "cell_type": "code",
   "execution_count": 23,
   "id": "a756fad8",
   "metadata": {},
   "outputs": [
    {
     "data": {
      "text/plain": [
       "float"
      ]
     },
     "execution_count": 23,
     "metadata": {},
     "output_type": "execute_result"
    }
   ],
   "source": [
    "type(E)"
   ]
  },
  {
   "cell_type": "code",
   "execution_count": 24,
   "id": "95515308",
   "metadata": {},
   "outputs": [
    {
     "data": {
      "text/plain": [
       "float"
      ]
     },
     "execution_count": 24,
     "metadata": {},
     "output_type": "execute_result"
    }
   ],
   "source": [
    "type(F)"
   ]
  },
  {
   "cell_type": "code",
   "execution_count": 30,
   "id": "466dada8",
   "metadata": {},
   "outputs": [
    {
     "data": {
      "text/plain": [
       "str"
      ]
     },
     "execution_count": 30,
     "metadata": {},
     "output_type": "execute_result"
    }
   ],
   "source": [
    "type(G)"
   ]
  },
  {
   "cell_type": "code",
   "execution_count": 26,
   "id": "8652c906",
   "metadata": {},
   "outputs": [
    {
     "data": {
      "text/plain": [
       "frozenset"
      ]
     },
     "execution_count": 26,
     "metadata": {},
     "output_type": "execute_result"
    }
   ],
   "source": [
    "type(H)"
   ]
  },
  {
   "cell_type": "code",
   "execution_count": 27,
   "id": "11e6acd6",
   "metadata": {},
   "outputs": [
    {
     "data": {
      "text/plain": [
       "bool"
      ]
     },
     "execution_count": 27,
     "metadata": {},
     "output_type": "execute_result"
    }
   ],
   "source": [
    "type(I)"
   ]
  },
  {
   "cell_type": "code",
   "execution_count": 31,
   "id": "4bd910fc",
   "metadata": {},
   "outputs": [
    {
     "data": {
      "text/plain": [
       "float"
      ]
     },
     "execution_count": 31,
     "metadata": {},
     "output_type": "execute_result"
    }
   ],
   "source": [
    "type(J)"
   ]
  },
  {
   "cell_type": "code",
   "execution_count": 32,
   "id": "982c1ae1",
   "metadata": {},
   "outputs": [
    {
     "data": {
      "text/plain": [
       "NoneType"
      ]
     },
     "execution_count": 32,
     "metadata": {},
     "output_type": "execute_result"
    }
   ],
   "source": [
    "type(K)"
   ]
  },
  {
   "cell_type": "code",
   "execution_count": 33,
   "id": "1fa0e6d0",
   "metadata": {},
   "outputs": [
    {
     "data": {
      "text/plain": [
       "list"
      ]
     },
     "execution_count": 33,
     "metadata": {},
     "output_type": "execute_result"
    }
   ],
   "source": [
    "type(L)"
   ]
  },
  {
   "cell_type": "code",
   "execution_count": 34,
   "id": "f1f7acc9",
   "metadata": {},
   "outputs": [
    {
     "data": {
      "text/plain": [
       "tuple"
      ]
     },
     "execution_count": 34,
     "metadata": {},
     "output_type": "execute_result"
    }
   ],
   "source": [
    "type(M)"
   ]
  },
  {
   "cell_type": "code",
   "execution_count": 35,
   "id": "90fb63bc",
   "metadata": {},
   "outputs": [
    {
     "data": {
      "text/plain": [
       "dict"
      ]
     },
     "execution_count": 35,
     "metadata": {},
     "output_type": "execute_result"
    }
   ],
   "source": [
    "type(N)"
   ]
  },
  {
   "cell_type": "code",
   "execution_count": 36,
   "id": "58f2ca4e",
   "metadata": {},
   "outputs": [
    {
     "data": {
      "text/plain": [
       "range"
      ]
     },
     "execution_count": 36,
     "metadata": {},
     "output_type": "execute_result"
    }
   ],
   "source": [
    "type(O)"
   ]
  },
  {
   "cell_type": "code",
   "execution_count": 37,
   "id": "142bb401",
   "metadata": {},
   "outputs": [],
   "source": [
    "#MATHEMATICAL OPERAIONS ON VARIABLESA"
   ]
  },
  {
   "cell_type": "code",
   "execution_count": 41,
   "id": "3437de9e",
   "metadata": {},
   "outputs": [
    {
     "name": "stdout",
     "output_type": "stream",
     "text": [
      "1.7855357142857142\n"
     ]
    },
    {
     "data": {
      "text/plain": [
       "float"
      ]
     },
     "execution_count": 41,
     "metadata": {},
     "output_type": "execute_result"
    }
   ],
   "source": [
    "VAR1= B/A\n",
    "print(VAR1)\n",
    "type(VAR1)"
   ]
  },
  {
   "cell_type": "code",
   "execution_count": 43,
   "id": "7035618e",
   "metadata": {},
   "outputs": [
    {
     "data": {
      "text/plain": [
       "155.99"
      ]
     },
     "execution_count": 43,
     "metadata": {},
     "output_type": "execute_result"
    }
   ],
   "source": [
    "x=A+B\n",
    "x"
   ]
  },
  {
   "cell_type": "code",
   "execution_count": 45,
   "id": "44718c8c",
   "metadata": {},
   "outputs": [
    {
     "data": {
      "text/plain": [
       "5599.44"
      ]
     },
     "execution_count": 45,
     "metadata": {},
     "output_type": "execute_result"
    }
   ],
   "source": [
    "h=A*B\n",
    "h"
   ]
  },
  {
   "cell_type": "code",
   "execution_count": 46,
   "id": "25a341c0",
   "metadata": {},
   "outputs": [
    {
     "data": {
      "text/plain": [
       "56.0"
      ]
     },
     "execution_count": 46,
     "metadata": {},
     "output_type": "execute_result"
    }
   ],
   "source": [
    "u=A%B\n",
    "u"
   ]
  },
  {
   "cell_type": "code",
   "execution_count": 48,
   "id": "348258cc",
   "metadata": {},
   "outputs": [
    {
     "data": {
      "text/plain": [
       "9.94415372316688e+111"
      ]
     },
     "execution_count": 48,
     "metadata": {},
     "output_type": "execute_result"
    }
   ],
   "source": [
    "i=B**A\n",
    "i"
   ]
  },
  {
   "cell_type": "code",
   "execution_count": 59,
   "id": "112c71e0",
   "metadata": {},
   "outputs": [
    {
     "data": {
      "text/plain": [
       "8785.428"
      ]
     },
     "execution_count": 59,
     "metadata": {},
     "output_type": "execute_result"
    }
   ],
   "source": [
    "hui=((A*(A+B))-J)+A\n",
    "hui"
   ]
  },
  {
   "cell_type": "code",
   "execution_count": 60,
   "id": "f3dfe097",
   "metadata": {},
   "outputs": [
    {
     "name": "stdout",
     "output_type": "stream",
     "text": [
      "Enter the value for h : 5\n",
      "Enter the value for u : 4\n",
      "Enter the value for i : 3\n"
     ]
    }
   ],
   "source": [
    "h = int(input(\"Enter the value for h : \"))\n",
    "u = int(input(\"Enter the value for u : \"))\n",
    "i = int(input(\"Enter the value for i : \"))"
   ]
  },
  {
   "cell_type": "code",
   "execution_count": 63,
   "id": "61fd9861",
   "metadata": {},
   "outputs": [
    {
     "name": "stdout",
     "output_type": "stream",
     "text": [
      " hui = 12\n"
     ]
    }
   ],
   "source": [
    "hui=h+u+i\n",
    "print(\" hui =\",hui)"
   ]
  },
  {
   "cell_type": "code",
   "execution_count": 64,
   "id": "bc67e178",
   "metadata": {},
   "outputs": [
    {
     "name": "stdout",
     "output_type": "stream",
     "text": [
      "Enter the value for i : 1\n",
      "Enter the value for l : 2\n",
      "Enter the value for u : 3\n"
     ]
    }
   ],
   "source": [
    "i = int(input(\"Enter the value for i : \"))\n",
    "l = int(input(\"Enter the value for l : \"))\n",
    "u = int(input(\"Enter the value for u : \"))"
   ]
  },
  {
   "cell_type": "code",
   "execution_count": 65,
   "id": "351bfc53",
   "metadata": {},
   "outputs": [
    {
     "name": "stdout",
     "output_type": "stream",
     "text": [
      " ilu = 0\n"
     ]
    }
   ],
   "source": [
    "ilu=u-l-i\n",
    "print(\" ilu =\" ,ilu)"
   ]
  },
  {
   "cell_type": "code",
   "execution_count": 79,
   "id": "61cfc9f9",
   "metadata": {},
   "outputs": [
    {
     "data": {
      "text/plain": [
       "'c.k Pithawalla'"
      ]
     },
     "execution_count": 79,
     "metadata": {},
     "output_type": "execute_result"
    }
   ],
   "source": [
    "#string concatenation(connecting all the data when given data is in parts)\n",
    "str1=\"c.k \"\n",
    "str2=\"Pithawalla\"\n",
    "str3=str1+str2\n",
    "str3"
   ]
  },
  {
   "cell_type": "code",
   "execution_count": 80,
   "id": "1c4ab7c7",
   "metadata": {},
   "outputs": [
    {
     "data": {
      "text/plain": [
       "'Yash Prajapati'"
      ]
     },
     "execution_count": 80,
     "metadata": {},
     "output_type": "execute_result"
    }
   ],
   "source": [
    "str1=\"Yash \"\n",
    "str2=\"Prajapati\"\n",
    "str3=str1+str2\n",
    "str3"
   ]
  },
  {
   "cell_type": "code",
   "execution_count": 81,
   "id": "6d4506f7",
   "metadata": {},
   "outputs": [
    {
     "name": "stdout",
     "output_type": "stream",
     "text": [
      "Yash \n",
      "<3 \n",
      "Hui\n",
      "The string concatenation of above 3 string gives Yash <3 Hui\n"
     ]
    }
   ],
   "source": [
    "str1=\"Yash \"\n",
    "str2=\"<3 \"\n",
    "str3=\"Hui\"\n",
    "str4=str1+str2+str3\n",
    "print(str1)\n",
    "print(str2)\n",
    "print(str3)\n",
    "print(\"The string concatenation of above 3 string gives\",str4)"
   ]
  },
  {
   "cell_type": "code",
   "execution_count": 82,
   "id": "d76990be",
   "metadata": {},
   "outputs": [
    {
     "name": "stdout",
     "output_type": "stream",
     "text": [
      "Yash \n",
      "Prajapati\n"
     ]
    },
    {
     "data": {
      "text/plain": [
       "'Yash Prajapati'"
      ]
     },
     "execution_count": 82,
     "metadata": {},
     "output_type": "execute_result"
    }
   ],
   "source": [
    "str1=\"Yash \"\n",
    "str2=\"Prajapati\"\n",
    "str3=str1+str2\n",
    "print(str1)\n",
    "print(str2)\n",
    "str3"
   ]
  },
  {
   "cell_type": "code",
   "execution_count": 84,
   "id": "5cc7f4c7",
   "metadata": {},
   "outputs": [
    {
     "name": "stdout",
     "output_type": "stream",
     "text": [
      "14\n"
     ]
    }
   ],
   "source": [
    "print(len(str3))"
   ]
  },
  {
   "cell_type": "code",
   "execution_count": 85,
   "id": "f6634d8d",
   "metadata": {},
   "outputs": [
    {
     "data": {
      "text/plain": [
       "'Yash Prajapat'"
      ]
     },
     "execution_count": 85,
     "metadata": {},
     "output_type": "execute_result"
    }
   ],
   "source": [
    "#string slicing\n",
    "str3[0:13]"
   ]
  },
  {
   "cell_type": "code",
   "execution_count": 86,
   "id": "75caef07",
   "metadata": {},
   "outputs": [
    {
     "data": {
      "text/plain": [
       "'Prajapati'"
      ]
     },
     "execution_count": 86,
     "metadata": {},
     "output_type": "execute_result"
    }
   ],
   "source": [
    "#string slicing\n",
    "str3[5:14]"
   ]
  },
  {
   "cell_type": "code",
   "execution_count": 87,
   "id": "7ff94534",
   "metadata": {},
   "outputs": [
    {
     "data": {
      "text/plain": [
       "'Yash'"
      ]
     },
     "execution_count": 87,
     "metadata": {},
     "output_type": "execute_result"
    }
   ],
   "source": [
    "#string slicing\n",
    "str3[0:4]"
   ]
  },
  {
   "cell_type": "code",
   "execution_count": 88,
   "id": "6c3fc945",
   "metadata": {},
   "outputs": [
    {
     "data": {
      "text/plain": [
       "'Yash Prajapati'"
      ]
     },
     "execution_count": 88,
     "metadata": {},
     "output_type": "execute_result"
    }
   ],
   "source": [
    "#string slicing\n",
    "str3[0:14]"
   ]
  },
  {
   "cell_type": "code",
   "execution_count": 101,
   "id": "d24e2bdf",
   "metadata": {},
   "outputs": [
    {
     "name": "stdout",
     "output_type": "stream",
     "text": [
      "('yash', 22, 'Surat', 53.9, 'Home', 1353)\n",
      "<class 'tuple'>\n"
     ]
    }
   ],
   "source": [
    "#creating tupl\n",
    "\n",
    "tup1 =(\"yash\", 22, \"Surat\", 53.9, \"Home\", 1353)\n",
    "print(tup1)\n",
    "print(type(tup1))"
   ]
  },
  {
   "cell_type": "code",
   "execution_count": 93,
   "id": "e33a74f1",
   "metadata": {},
   "outputs": [
    {
     "data": {
      "text/plain": [
       "'Home'"
      ]
     },
     "execution_count": 93,
     "metadata": {},
     "output_type": "execute_result"
    }
   ],
   "source": [
    "tup1[4]"
   ]
  },
  {
   "cell_type": "code",
   "execution_count": 94,
   "id": "2fd7c62b",
   "metadata": {},
   "outputs": [
    {
     "data": {
      "text/plain": [
       "53.9"
      ]
     },
     "execution_count": 94,
     "metadata": {},
     "output_type": "execute_result"
    }
   ],
   "source": [
    "tup1[3]"
   ]
  },
  {
   "cell_type": "code",
   "execution_count": 95,
   "id": "95556fe2",
   "metadata": {},
   "outputs": [
    {
     "data": {
      "text/plain": [
       "(22, 'Surat', 53.9)"
      ]
     },
     "execution_count": 95,
     "metadata": {},
     "output_type": "execute_result"
    }
   ],
   "source": [
    "tup1[1:4]"
   ]
  },
  {
   "cell_type": "code",
   "execution_count": 96,
   "id": "8ad0ad16",
   "metadata": {},
   "outputs": [
    {
     "data": {
      "text/plain": [
       "'yash'"
      ]
     },
     "execution_count": 96,
     "metadata": {},
     "output_type": "execute_result"
    }
   ],
   "source": [
    "tup1[0]"
   ]
  },
  {
   "cell_type": "code",
   "execution_count": 98,
   "id": "53e245ce",
   "metadata": {},
   "outputs": [
    {
     "data": {
      "text/plain": [
       "('yash', 22, 'Surat')"
      ]
     },
     "execution_count": 98,
     "metadata": {},
     "output_type": "execute_result"
    }
   ],
   "source": [
    "tup1[0:3]"
   ]
  },
  {
   "cell_type": "code",
   "execution_count": 102,
   "id": "df6c782c",
   "metadata": {},
   "outputs": [
    {
     "name": "stdout",
     "output_type": "stream",
     "text": [
      "('yash', 22, 'Surat', 53.9, 'Home', 1353, 'python', 594)\n"
     ]
    }
   ],
   "source": [
    "tup2=(\"python\", 594)\n",
    "\n",
    "tup3= tup1+tup2\n",
    "print(tup3)"
   ]
  },
  {
   "cell_type": "code",
   "execution_count": 104,
   "id": "13fc9866",
   "metadata": {},
   "outputs": [
    {
     "name": "stdout",
     "output_type": "stream",
     "text": [
      "['hui', 45, 'huuii', 5689]\n",
      "<class 'list'>\n"
     ]
    }
   ],
   "source": [
    "#creartimg list \n",
    "lst1=[\"hui\", 45, \"huuii\", 5689 ]\n",
    "print(lst1)\n",
    "print(type(lst1))"
   ]
  },
  {
   "cell_type": "code",
   "execution_count": 109,
   "id": "11748179",
   "metadata": {},
   "outputs": [
    {
     "data": {
      "text/plain": [
       "3"
      ]
     },
     "execution_count": 109,
     "metadata": {},
     "output_type": "execute_result"
    }
   ],
   "source": [
    "len(lst1)"
   ]
  },
  {
   "cell_type": "code",
   "execution_count": 110,
   "id": "79c275e9",
   "metadata": {},
   "outputs": [
    {
     "ename": "ValueError",
     "evalue": "list.remove(x): x not in list",
     "output_type": "error",
     "traceback": [
      "\u001b[1;31m---------------------------------------------------------------------------\u001b[0m",
      "\u001b[1;31mValueError\u001b[0m                                Traceback (most recent call last)",
      "Input \u001b[1;32mIn [110]\u001b[0m, in \u001b[0;36m<cell line: 1>\u001b[1;34m()\u001b[0m\n\u001b[1;32m----> 1\u001b[0m \u001b[43mlst1\u001b[49m\u001b[38;5;241;43m.\u001b[39;49m\u001b[43mremove\u001b[49m\u001b[43m(\u001b[49m\u001b[38;5;241;43m45\u001b[39;49m\u001b[43m)\u001b[49m\n",
      "\u001b[1;31mValueError\u001b[0m: list.remove(x): x not in list"
     ]
    }
   ],
   "source": [
    "lst1.remove(45)"
   ]
  },
  {
   "cell_type": "code",
   "execution_count": 108,
   "id": "c32a806f",
   "metadata": {},
   "outputs": [
    {
     "data": {
      "text/plain": [
       "['hui', 'huuii', 5689]"
      ]
     },
     "execution_count": 108,
     "metadata": {},
     "output_type": "execute_result"
    }
   ],
   "source": [
    "lst1"
   ]
  },
  {
   "cell_type": "markdown",
   "id": "6a86e2e7",
   "metadata": {},
   "source": [
    "# Disctionary"
   ]
  },
  {
   "cell_type": "code",
   "execution_count": 113,
   "id": "9985f32c",
   "metadata": {},
   "outputs": [],
   "source": [
    "dict1= {\"Team\" : \"Nova\", \"Power\" : \"Mind\", \"Members\" : \"17\", \"Leader\" : \"Yash\"}"
   ]
  },
  {
   "cell_type": "code",
   "execution_count": 114,
   "id": "a62782c6",
   "metadata": {},
   "outputs": [
    {
     "name": "stdout",
     "output_type": "stream",
     "text": [
      "{'Team': 'Nova', 'Power': 'Mind', 'Members': '17', 'Leader': 'Yash'}\n"
     ]
    }
   ],
   "source": [
    "print(dict1)"
   ]
  },
  {
   "cell_type": "code",
   "execution_count": 115,
   "id": "85a75714",
   "metadata": {},
   "outputs": [
    {
     "name": "stderr",
     "output_type": "stream",
     "text": [
      "The syntax of the command is incorrect.\n",
      "ERROR: Could not find a version that satisfies the requirement ckpcet (from versions: none)\n",
      "ERROR: No matching distribution found for ckpcet\n",
      "The syntax of the command is incorrect.\n"
     ]
    }
   ],
   "source": [
    "!pip install <package name>\n",
    "!pip install ckpcet\n",
    "!conda install <package name>"
   ]
  },
  {
   "cell_type": "markdown",
   "id": "8bf8ab7c",
   "metadata": {},
   "source": [
    "# Python Conditional Statement"
   ]
  },
  {
   "cell_type": "code",
   "execution_count": 116,
   "id": "0a20ec59",
   "metadata": {},
   "outputs": [
    {
     "name": "stdout",
     "output_type": "stream",
     "text": [
      "5 is a positive number\n",
      "this statement is true \n"
     ]
    }
   ],
   "source": [
    "#if statement\n",
    "num=5\n",
    "if num > 0:\n",
    "    print(num, \"is a positive number\")\n",
    "    print(\"This statement is true \")"
   ]
  },
  {
   "cell_type": "code",
   "execution_count": 117,
   "id": "79dcc592",
   "metadata": {},
   "outputs": [
    {
     "name": "stdout",
     "output_type": "stream",
     "text": [
      "Enter the value for num : 6\n",
      "6 is a positive number\n",
      "This statement is true \n"
     ]
    }
   ],
   "source": [
    "#if statement\n",
    "num = int(input(\"Enter the value for num : \"))\n",
    "if num > 0:\n",
    "    print(num, \"is a positive number\")\n",
    "    print(\"This statement is true \")\n",
    "    "
   ]
  },
  {
   "cell_type": "code",
   "execution_count": 118,
   "id": "e5870cb4",
   "metadata": {},
   "outputs": [
    {
     "name": "stdout",
     "output_type": "stream",
     "text": [
      "Enter the value for num : -6\n",
      "Negative Number\n"
     ]
    }
   ],
   "source": [
    "#if statement\n",
    "num = int(input(\"Enter the value for num : \"))\n",
    "if num > 0:\n",
    "    print(num, \"is a positive number\")\n",
    "    print(\"This statement is true \")\n",
    "else :\n",
    "    print(\"Negative Number\")"
   ]
  },
  {
   "cell_type": "code",
   "execution_count": null,
   "id": "15096cb3",
   "metadata": {},
   "outputs": [],
   "source": [
    "#if statement\n",
    "num = int(input(\"Enter the value for num : \"))\n",
    "if num > 0:\n",
    "    print(num, \"is a positive number\")\n",
    "    print(\"This statement is true \")\n",
    "else :\n",
    "    print(\"Negative Number\")"
   ]
  }
 ],
 "metadata": {
  "kernelspec": {
   "display_name": "Python 3 (ipykernel)",
   "language": "python",
   "name": "python3"
  },
  "language_info": {
   "codemirror_mode": {
    "name": "ipython",
    "version": 3
   },
   "file_extension": ".py",
   "mimetype": "text/x-python",
   "name": "python",
   "nbconvert_exporter": "python",
   "pygments_lexer": "ipython3",
   "version": "3.9.12"
  }
 },
 "nbformat": 4,
 "nbformat_minor": 5
}
