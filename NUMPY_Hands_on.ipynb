{
 "cells": [
  {
   "cell_type": "markdown",
   "id": "d114d354",
   "metadata": {},
   "source": [
    "# Numpy"
   ]
  },
  {
   "cell_type": "code",
   "execution_count": 3,
   "id": "34cfaf0a",
   "metadata": {},
   "outputs": [
    {
     "name": "stdout",
     "output_type": "stream",
     "text": [
      "[[ 1  2  3  4  5]\n",
      " [ 6  7  8  9 10]\n",
      " [11 12 13 14 15]]\n"
     ]
    }
   ],
   "source": [
    "import numpy as np\n",
    "arr = np.array([[1,2,3,4,5],[6,7,8,9,10],[11,12,13,14,15]])\n",
    "print(arr)\n",
    "\n",
    "#main function \n",
    "print(np.main())"
   ]
  },
  {
   "cell_type": "code",
   "execution_count": null,
   "id": "d408ecf3",
   "metadata": {},
   "outputs": [],
   "source": [
    "a = np.array([5,6,7])"
   ]
  },
  {
   "cell_type": "code",
   "execution_count": null,
   "id": "557ec367",
   "metadata": {},
   "outputs": [],
   "source": [
    "print(a)"
   ]
  },
  {
   "cell_type": "code",
   "execution_count": null,
   "id": "e26c8d19",
   "metadata": {},
   "outputs": [],
   "source": [
    "np.mean(arr)"
   ]
  },
  {
   "cell_type": "code",
   "execution_count": null,
   "id": "9c0519d0",
   "metadata": {},
   "outputs": [],
   "source": [
    "np.median(arr)"
   ]
  },
  {
   "cell_type": "code",
   "execution_count": null,
   "id": "2f7168e6",
   "metadata": {},
   "outputs": [],
   "source": [
    "np.std(arr)"
   ]
  },
  {
   "cell_type": "code",
   "execution_count": null,
   "id": "efa8663a",
   "metadata": {},
   "outputs": [],
   "source": [
    "np.var(arr)"
   ]
  },
  {
   "cell_type": "markdown",
   "id": "736127d6",
   "metadata": {},
   "source": [
    "\n",
    "# 2.10 Array broadcasting in numpy"
   ]
  },
  {
   "cell_type": "code",
   "execution_count": 4,
   "id": "7403665e",
   "metadata": {},
   "outputs": [],
   "source": [
    "a = np.array([1.0,2.0,3.0])\n",
    "b = np.array([2.0, 2.0, 2.0])"
   ]
  },
  {
   "cell_type": "code",
   "execution_count": 5,
   "id": "2fb0607f",
   "metadata": {},
   "outputs": [
    {
     "data": {
      "text/plain": [
       "array([2., 4., 6.])"
      ]
     },
     "execution_count": 5,
     "metadata": {},
     "output_type": "execute_result"
    }
   ],
   "source": [
    "a*b"
   ]
  },
  {
   "cell_type": "code",
   "execution_count": 6,
   "id": "c1909fe2",
   "metadata": {},
   "outputs": [
    {
     "data": {
      "text/plain": [
       "array([3., 4., 5.])"
      ]
     },
     "execution_count": 6,
     "metadata": {},
     "output_type": "execute_result"
    }
   ],
   "source": [
    "a+b"
   ]
  },
  {
   "cell_type": "code",
   "execution_count": 7,
   "id": "c0211a32",
   "metadata": {},
   "outputs": [
    {
     "data": {
      "text/plain": [
       "array([2.        , 1.        , 0.66666667])"
      ]
     },
     "execution_count": 7,
     "metadata": {},
     "output_type": "execute_result"
    }
   ],
   "source": [
    "b/a"
   ]
  },
  {
   "cell_type": "code",
   "execution_count": null,
   "id": "5339cc67",
   "metadata": {},
   "outputs": [],
   "source": []
  }
 ],
 "metadata": {
  "kernelspec": {
   "display_name": "Python 3 (ipykernel)",
   "language": "python",
   "name": "python3"
  },
  "language_info": {
   "codemirror_mode": {
    "name": "ipython",
    "version": 3
   },
   "file_extension": ".py",
   "mimetype": "text/x-python",
   "name": "python",
   "nbconvert_exporter": "python",
   "pygments_lexer": "ipython3",
   "version": "3.9.12"
  }
 },
 "nbformat": 4,
 "nbformat_minor": 5
}
